{
 "cells": [
  {
   "cell_type": "code",
   "execution_count": 3,
   "id": "33d300e3-438f-44fa-9acf-fed95697fa0b",
   "metadata": {},
   "outputs": [
    {
     "name": "stdout",
     "output_type": "stream",
     "text": [
      "winning rules of the game ROCK PAPER SCISSIOR are:\n",
      "Rock vs Paper->Paper wins\n",
      "Rock vs Scissior->Rock wins\n",
      "Paper vs Scissors->Scissor wins\n",
      "\n"
     ]
    }
   ],
   "source": [
    "\"\"\"\n",
    "WORKFLOW OF PROJECT:\n",
    "1- Input from user(Rock, paper, scissor)\n",
    "2- Computer choice ( comp will choose randomly not conditionally)\n",
    "3- Result print\n",
    "\n",
    "Cases:\n",
    "A-Rock\n",
    "Rock-Rock==tie\n",
    "Rock-Paper==paper win\n",
    "Rock-Scissor==Rock win\n",
    "B-Scissor\n",
    "Scissor-Scissor=tie\n",
    "Scissor-Rock=Rock win\n",
    "Scissor-paper=Scissor win\n",
    "\n",
    "C-Paper\n",
    "Paper-Paper=tie\n",
    "Paper-Rock=Paper win\n",
    "Paper-Scissor=Scissor win\n",
    "\n",
    "\"\"\"\n",
    "import random\n",
    "#print multiple instruction \n",
    "print('winning rules of the game ROCK PAPER SCISSIOR are:\\n'+\"Rock vs Paper->Paper wins\\n\"+\"Rock vs Scissior->Rock wins\\n\"+\"Paper vs Scissors->Scissor wins\\n\")"
   ]
  },
  {
   "cell_type": "code",
   "execution_count": 5,
   "id": "4fc62454-4157-428a-b04b-67d63984de88",
   "metadata": {},
   "outputs": [
    {
     "name": "stdout",
     "output_type": "stream",
     "text": [
      "Enter your choice \n",
      " 1 - Rock \n",
      " 2 - Paper \n",
      " 3 - Scissors \n",
      "\n"
     ]
    },
    {
     "name": "stdin",
     "output_type": "stream",
     "text": [
      "Enter your choice:  1\n"
     ]
    },
    {
     "name": "stdout",
     "output_type": "stream",
     "text": [
      "User choice is: Rock\n",
      "Now it's Computer's Turn...\n",
      "Computer choice is: Paper\n",
      "Rock vs Paper\n",
      "<== Computer wins! ==>\n",
      "Do you want to play again? (Y/N)\n"
     ]
    },
    {
     "name": "stdin",
     "output_type": "stream",
     "text": [
      " y\n"
     ]
    },
    {
     "name": "stdout",
     "output_type": "stream",
     "text": [
      "Enter your choice \n",
      " 1 - Rock \n",
      " 2 - Paper \n",
      " 3 - Scissors \n",
      "\n"
     ]
    },
    {
     "name": "stdin",
     "output_type": "stream",
     "text": [
      "Enter your choice:  2\n"
     ]
    },
    {
     "name": "stdout",
     "output_type": "stream",
     "text": [
      "User choice is: Paper\n",
      "Now it's Computer's Turn...\n",
      "Computer choice is: Rock\n",
      "Paper vs Rock\n",
      "<== User wins! ==>\n",
      "Do you want to play again? (Y/N)\n"
     ]
    },
    {
     "name": "stdin",
     "output_type": "stream",
     "text": [
      " y\n"
     ]
    },
    {
     "name": "stdout",
     "output_type": "stream",
     "text": [
      "Enter your choice \n",
      " 1 - Rock \n",
      " 2 - Paper \n",
      " 3 - Scissors \n",
      "\n"
     ]
    },
    {
     "name": "stdin",
     "output_type": "stream",
     "text": [
      "Enter your choice:  3\n"
     ]
    },
    {
     "name": "stdout",
     "output_type": "stream",
     "text": [
      "User choice is: Scissors\n",
      "Now it's Computer's Turn...\n",
      "Computer choice is: Scissors\n",
      "Scissors vs Scissors\n",
      "<== It's a tie! ==>\n",
      "Do you want to play again? (Y/N)\n"
     ]
    },
    {
     "name": "stdin",
     "output_type": "stream",
     "text": [
      " n\n"
     ]
    },
    {
     "name": "stdout",
     "output_type": "stream",
     "text": [
      "Thanks for playing!\n"
     ]
    }
   ],
   "source": [
    "\n",
    "import random\n",
    "while True:\n",
    "\n",
    "    print(\"Enter your choice \\n 1 - Rock \\n 2 - Paper \\n 3 - Scissors \\n\")\n",
    "\n",
    "    ## Take the input from user\n",
    "    choice = int(input(\"Enter your choice: \"))\n",
    "\n",
    "    ##Looping until user enters valid input\n",
    "    while choice > 3 or choice < 1:\n",
    "        choice = int(input('Enter a valid choice please ☺: '))\n",
    "\n",
    "    ## Initialize value of choice_name variable corresponding to the choice value\n",
    "    if choice == 1:\n",
    "        choice_name = 'Rock'\n",
    "    elif choice == 2:\n",
    "        choice_name = 'Paper'\n",
    "    else:\n",
    "        choice_name = 'Scissors'\n",
    "\n",
    "    # Print user choice\n",
    "    print('User choice is:', choice_name)\n",
    "    print(\"Now it's Computer's Turn...\")\n",
    "\n",
    "    # Computer chooses randomly any number among 1, 2, and 3\n",
    "    comp_choice = random.randint(1,3)\n",
    "\n",
    "    # Initialize value of comp_choice_name variable corresponding to the choice value\n",
    "    if comp_choice == 1:\n",
    "        comp_choice_name = 'Rock'\n",
    "    elif comp_choice == 2:\n",
    "        comp_choice_name = 'Paper'\n",
    "    else:\n",
    "        comp_choice_name = 'Scissors'\n",
    "\n",
    "    print(\"Computer choice is:\", comp_choice_name)\n",
    "    print(choice_name, 'vs', comp_choice_name)\n",
    "\n",
    "    # Determine the winner\n",
    "    if choice == comp_choice:\n",
    "        result = \"DRAW\"\n",
    "    elif (choice == 1 and comp_choice == 2) or (comp_choice == 1 and choice == 2):\n",
    "        result = 'Paper'\n",
    "    elif (choice == 1 and comp_choice == 3) or (comp_choice == 1 and choice == 3):\n",
    "        result = 'Rock'\n",
    "    elif (choice == 2 and comp_choice == 3) or (comp_choice == 2 and choice == 3):\n",
    "        result = 'Scissors'\n",
    "\n",
    "    # Print the result\n",
    "    if result == \"DRAW\":\n",
    "        print(\"<== It's a tie! ==>\")\n",
    "    elif result == choice_name:\n",
    "        print(\"<== User wins! ==>\")\n",
    "    else:\n",
    "        print(\"<== Computer wins! ==>\")\n",
    "\n",
    "    # Ask if the user wants to play again\n",
    "    print(\"Do you want to play again? (Y/N)\")\n",
    "    ans = input().lower()\n",
    "    if ans == 'n':\n",
    "        break\n",
    "\n",
    "# After coming out of the while loop, print thanks for playing\n",
    "print(\"Thanks for playing!\")"
   ]
  },
  {
   "cell_type": "code",
   "execution_count": null,
   "id": "fdfbbcb8-d6bc-41c7-ae03-c2a45b067c66",
   "metadata": {},
   "outputs": [],
   "source": []
  }
 ],
 "metadata": {
  "kernelspec": {
   "display_name": "Python 3 (ipykernel)",
   "language": "python",
   "name": "python3"
  },
  "language_info": {
   "codemirror_mode": {
    "name": "ipython",
    "version": 3
   },
   "file_extension": ".py",
   "mimetype": "text/x-python",
   "name": "python",
   "nbconvert_exporter": "python",
   "pygments_lexer": "ipython3",
   "version": "3.12.4"
  }
 },
 "nbformat": 4,
 "nbformat_minor": 5
}
