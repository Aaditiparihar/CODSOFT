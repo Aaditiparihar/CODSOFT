{
 "cells": [
  {
   "cell_type": "code",
   "execution_count": 1,
   "id": "b64e40fd-d4ca-4dc8-967b-02c4f89fe385",
   "metadata": {},
   "outputs": [],
   "source": [
    "import tkinter as tk"
   ]
  },
  {
   "cell_type": "code",
   "execution_count": 2,
   "id": "32fd2aa9-c5c2-4f24-86e9-e4bd7ccc68f1",
   "metadata": {},
   "outputs": [],
   "source": [
    "from tkinter import messagebox\n"
   ]
  },
  {
   "cell_type": "code",
   "execution_count": 3,
   "id": "86b1d563-8c2c-409c-ad2c-2291151e39a3",
   "metadata": {},
   "outputs": [],
   "source": [
    "window=tk.Tk()\n",
    "window.geometry(\"800x500\")\n",
    "window.title(\"My Contact Book\")\n",
    "window.config(bg=\"pink\")\n"
   ]
  },
  {
   "cell_type": "code",
   "execution_count": 4,
   "id": "5657ce37-288c-4e36-90b1-2c9cfd9274b4",
   "metadata": {},
   "outputs": [],
   "source": [
    "#create a list to store contact information\n",
    "contacts=[]\n",
    "#function to add contacts\n",
    "def add_contact():\n",
    "    name=name_entry.get().strip()\n",
    "    phone=phone_entry.get()\n",
    "    email=email_entry.get()\n",
    "    if name!=\"\":\n",
    "        contacts.append((name,phone,email))\n",
    "        messagebox.showinfo((\"save\",\"contact saved successfully\"))\n",
    "    name_entry.delete(0,tk.END)\n",
    "    phone_entry.delete(0,tk.END)\n",
    "    email_entry.delete(0,tk.END)\n",
    "    update_listbox()\n",
    "#function to remove a selected contact\n",
    "def remove_contact():\n",
    "    selected=contact_listbox.curselection()\n",
    "    if selected:\n",
    "        index=selected[0]\n",
    "        del contacts[index]\n",
    "        update_listbox()\n",
    "        messagebox.showinfo(\"Deleted\",\"Deleted contact successfully\")\n",
    "\n"
   ]
  },
  {
   "cell_type": "code",
   "execution_count": 5,
   "id": "0ac8a3ab-61e5-435c-acab-c967ce392ddc",
   "metadata": {},
   "outputs": [],
   "source": [
    "#funtion to display contacts\n",
    "def display_contacts():\n",
    "    for contact in contacts:\n",
    "        messagebox.showinfo(\"Details\",\"name:\"+contact[0]+'\\n'+\"phone:\"+contact[1]+'\\n'+\"email:\"+contact[2])\n",
    "#function to update the contact listbox\n",
    "def update_listbox():\n",
    "    contact_listbox.delete(0,tk.END)\n",
    "    for contact in contacts:\n",
    "        contact_listbox.insert(tk.END,contact[0])\n",
    "#heading CONTACT BOOK label\n",
    "heading_label=tk.Label(window,text=\"Contact Book\",font=(\"Arial\",30,\"bold\"),foreground=\"black\",bg=\"pink\",)\n",
    "heading_label.place(x=280,y=3)\n",
    "\n",
    "#create labels and entry fields for name and email\n",
    "name_label=tk.Label(window,text=\"Name:\",font=(\"Arial\",17,\"bold\"),foreground=\"black\",bg=\"pink\",)\n",
    "name_label.grid(row=0,column=0)\n",
    "name_label.place(x=80,y=70)\n",
    "name_entry=tk.Entry(window,font=(\"Arial\",17,\"bold\"),width=20)\n",
    "name_entry.grid(row=0,column=1)\n",
    "name_entry.place(x=200,y=70)\n",
    "\n",
    "phone_label=tk.Label(window,text=\"Contacts:\",font=(\"Arial\",17,\"bold\"),foreground=\"black\",bg=\"pink\",)\n",
    "phone_label.grid(row=1,column=0)\n",
    "phone_label.place(x=80,y=120)\n",
    "phone_entry=tk.Entry(window,font=(\"Arial\",17,\"bold\"),width=20)\n",
    "phone_entry.grid(row=1,column=1)\n",
    "phone_entry.place(x=200,y=120)\n",
    "\n",
    "email_label=tk.Label(window,text=\"Email:\",font=(\"Arial\",17,\"bold\"),foreground=\"black\",bg=\"pink\",)\n",
    "email_label.grid(row=2,column=0)\n",
    "email_label.place(x=80,y=170)\n",
    "email_entry=tk.Entry(window,font=(\"Arial\",17,\"bold\"),width=20)\n",
    "email_entry.grid(row=2,column=1)\n",
    "email_entry.place(x=200,y=170)\n",
    "\n",
    "#create buttons to add new contacts,remove and display contact\n",
    "add_button=tk.Button(window,text=\"Add Contact\",command=add_contact,font=(\"Tanoma\",13,\"bold\"),relief=\"raised\",borderwidth=4,width=18,activeforeground=\"white\",background=\"green\",activebackground=\"dark green\")\n",
    "add_button.grid(rowspan=1)\n",
    "add_button.place(x=50,y=280)\n",
    "\n",
    "remove_button=tk.Button(window,text=\"Remove Contact\",command=remove_contact,font=(\"Tanoma\",13,\"bold\"),relief=\"raised\",borderwidth=4,width=18,activeforeground=\"white\",background=\"red\",activebackground=\"dark red\")\n",
    "remove_button.grid(rowspan=1)\n",
    "remove_button.place(x=50,y=330)\n",
    "\n",
    "display_button=tk.Button(window,text=\"Display Contact\",command=display_contacts,font=(\"Tanoma\",13,\"bold\"),relief=\"raised\",borderwidth=4,width=18,activeforeground=\"white\",background=\"light blue\",activebackground=\"dark blue\")\n",
    "display_button.grid(rowspan=1)\n",
    "display_button.place(x=50,y=380)\n",
    "\n",
    "conhead_label=tk.Label(window,text=\"CONTACT LIST\",font=(\"Arial\",20,\"bold\"),foreground=\"black\",bg=\"pink\")\n",
    "conhead_label.place(x=510,y=230)\n",
    "\n",
    "#create listbox to display contacts\n",
    "contact_listbox=tk.Listbox(window,font=(\"Arial\",12),width=40)\n",
    "contact_listbox.place(x=400,y=280)\n",
    "\n",
    "#start the main window event\n",
    "window.mainloop()"
   ]
  },
  {
   "cell_type": "code",
   "execution_count": null,
   "id": "3490bd75-60e2-4d80-991a-f0042b506df2",
   "metadata": {},
   "outputs": [],
   "source": []
  }
 ],
 "metadata": {
  "kernelspec": {
   "display_name": "Python 3 (ipykernel)",
   "language": "python",
   "name": "python3"
  },
  "language_info": {
   "codemirror_mode": {
    "name": "ipython",
    "version": 3
   },
   "file_extension": ".py",
   "mimetype": "text/x-python",
   "name": "python",
   "nbconvert_exporter": "python",
   "pygments_lexer": "ipython3",
   "version": "3.12.4"
  }
 },
 "nbformat": 4,
 "nbformat_minor": 5
}
