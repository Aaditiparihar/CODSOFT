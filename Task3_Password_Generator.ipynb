{
 "cells": [
  {
   "cell_type": "code",
   "execution_count": 3,
   "id": "69793efd-0e04-46ae-8d00-d2a878014985",
   "metadata": {},
   "outputs": [
    {
     "name": "stdin",
     "output_type": "stream",
     "text": [
      "Enter the length of password:\n",
      " 4\n"
     ]
    },
    {
     "name": "stdout",
     "output_type": "stream",
     "text": [
      "Rgh+\n"
     ]
    }
   ],
   "source": [
    "import random\n",
    "import string \n",
    "s1=string.ascii_lowercase\n",
    "s2=string.ascii_uppercase\n",
    "s3=string.digits\n",
    "s4=string.punctuation\n",
    "#user input\n",
    "password_length=int(input(\"Enter the length of password:\\n\"))\n",
    "#Generate a password\n",
    "s=[]\n",
    "s.extend(list(s1))\n",
    "s.extend(list(s2))\n",
    "s.extend(list(s3))\n",
    "s.extend(list(s4))\n",
    "random.shuffle(s)\n",
    "#Displaying the password\n",
    "print(\"\".join(s[0:password_length]))\n"
   ]
  },
  {
   "cell_type": "code",
   "execution_count": null,
   "id": "63e58faa-3de8-4c90-80ca-191c106cfc41",
   "metadata": {},
   "outputs": [],
   "source": []
  }
 ],
 "metadata": {
  "kernelspec": {
   "display_name": "Python 3 (ipykernel)",
   "language": "python",
   "name": "python3"
  },
  "language_info": {
   "codemirror_mode": {
    "name": "ipython",
    "version": 3
   },
   "file_extension": ".py",
   "mimetype": "text/x-python",
   "name": "python",
   "nbconvert_exporter": "python",
   "pygments_lexer": "ipython3",
   "version": "3.12.4"
  }
 },
 "nbformat": 4,
 "nbformat_minor": 5
}
